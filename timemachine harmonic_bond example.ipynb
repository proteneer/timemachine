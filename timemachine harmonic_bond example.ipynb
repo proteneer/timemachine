{
 "cells": [
  {
   "cell_type": "code",
   "execution_count": 2,
   "metadata": {},
   "outputs": [],
   "source": [
    "from timemachine.potentials import bonded\n",
    "import numpy as onp\n",
    "import jax"
   ]
  },
  {
   "cell_type": "code",
   "execution_count": 3,
   "metadata": {},
   "outputs": [],
   "source": [
    "conf = onp.array([\n",
    "    [0.5,0.3,0.0],\n",
    "    [1.0, 0.5, 0.4]\n",
    "])"
   ]
  },
  {
   "cell_type": "code",
   "execution_count": 4,
   "metadata": {},
   "outputs": [],
   "source": [
    "params = onp.array([500,0.5])"
   ]
  },
  {
   "cell_type": "code",
   "execution_count": 20,
   "metadata": {},
   "outputs": [
    {
     "name": "stdout",
     "output_type": "stream",
     "text": [
      "[500.]\n",
      "7.2948985\n"
     ]
    }
   ],
   "source": [
    "bond_idxs = onp.array([[0,1]])\n",
    "param_idxs = onp.array([[0,1]])\n",
    "print(params[param_idxs[:,0]])\n",
    "print(str(bonded.harmonic_bond(conf, params, None, bond_idxs, param_idxs)))"
   ]
  },
  {
   "cell_type": "code",
   "execution_count": 6,
   "metadata": {},
   "outputs": [],
   "source": [
    "dEdx_fn = jax.grad(bonded.harmonic_bond, argnums=(0,))"
   ]
  },
  {
   "cell_type": "code",
   "execution_count": 17,
   "metadata": {},
   "outputs": [
    {
     "name": "stdout",
     "output_type": "stream",
     "text": [
      "[[-63.66099  -25.464396 -50.928795]\n",
      " [ 63.66099   25.464396  50.928795]]\n"
     ]
    }
   ],
   "source": [
    "print(dEdx_fn(conf,params,None,bond_idxs,param_idxs)[0])"
   ]
  },
  {
   "cell_type": "code",
   "execution_count": 8,
   "metadata": {},
   "outputs": [
    {
     "data": {
      "text/plain": [
       "DeviceArray([ 1.4589797e-02, -8.5410179e+01], dtype=float32)"
      ]
     },
     "execution_count": 8,
     "metadata": {},
     "output_type": "execute_result"
    }
   ],
   "source": [
    "dEdp_fn = jax.grad(bonded.harmonic_bond, argnums=(1,))\n",
    "dEdp_fn(conf,params,None,bond_idxs,param_idxs)[0]"
   ]
  },
  {
   "cell_type": "code",
   "execution_count": 9,
   "metadata": {},
   "outputs": [
    {
     "data": {
      "text/plain": [
       "0.6708203932499369"
      ]
     },
     "execution_count": 9,
     "metadata": {},
     "output_type": "execute_result"
    }
   ],
   "source": [
    "def distance(conf):\n",
    "    return onp.linalg.norm(conf[0] - conf[1])\n",
    "distance(conf)"
   ]
  },
  {
   "cell_type": "code",
   "execution_count": 16,
   "metadata": {},
   "outputs": [
    {
     "name": "stdout",
     "output_type": "stream",
     "text": [
      "0.6708203932499369 angstroms\n",
      "0.50000006 angstroms\n",
      "0.50000006 angstroms\n",
      "0.50000006 angstroms\n",
      "0.50000006 angstroms\n",
      "0.50000006 angstroms\n",
      "0.50000006 angstroms\n",
      "0.50000006 angstroms\n",
      "0.50000006 angstroms\n",
      "0.50000006 angstroms\n"
     ]
    }
   ],
   "source": [
    "new_conf = conf\n",
    "for _ in range(10):\n",
    "    print(str(distance(new_conf)) + \" angstroms\")\n",
    "    new_conf = new_conf - 0.001*dEdx_fn(new_conf,params,None,bond_idxs,param_idxs)[0]"
   ]
  },
  {
   "cell_type": "code",
   "execution_count": 23,
   "metadata": {},
   "outputs": [
    {
     "name": "stdout",
     "output_type": "stream",
     "text": [
      "[10.  3.]\n",
      "[3.  5.5]\n"
     ]
    }
   ],
   "source": [
    "params = onp.array([10.0, 3.0, 5.5], dtype=onp.float64)\n",
    "\n",
    "param_idxs = onp.array([\n",
    "            [0,1],\n",
    "            [1,2],\n",
    "        ], dtype=onp.int32)\n",
    "\n",
    "bond_idxs = onp.array([\n",
    "            [0,1],\n",
    "            [1,2]\n",
    "        ], dtype=onp.int32)\n",
    "print(params[param_idxs[:, 0]])\n",
    "print(params[param_idxs[:, 1]])"
   ]
  },
  {
   "cell_type": "code",
   "execution_count": null,
   "metadata": {},
   "outputs": [],
   "source": []
  }
 ],
 "metadata": {
  "kernelspec": {
   "display_name": "Python 3",
   "language": "python",
   "name": "python3"
  },
  "language_info": {
   "codemirror_mode": {
    "name": "ipython",
    "version": 3
   },
   "file_extension": ".py",
   "mimetype": "text/x-python",
   "name": "python",
   "nbconvert_exporter": "python",
   "pygments_lexer": "ipython3",
   "version": "3.6.7"
  }
 },
 "nbformat": 4,
 "nbformat_minor": 2
}
